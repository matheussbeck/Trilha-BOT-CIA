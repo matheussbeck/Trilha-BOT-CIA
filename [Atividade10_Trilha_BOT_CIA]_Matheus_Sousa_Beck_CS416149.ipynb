{
  "nbformat": 4,
  "nbformat_minor": 0,
  "metadata": {
    "colab": {
      "provenance": [],
      "include_colab_link": true
    },
    "kernelspec": {
      "name": "python3",
      "display_name": "Python 3"
    },
    "language_info": {
      "name": "python"
    }
  },
  "cells": [
    {
      "cell_type": "markdown",
      "metadata": {
        "id": "view-in-github",
        "colab_type": "text"
      },
      "source": [
        "<a href=\"https://colab.research.google.com/github/matheussbeck/Trilha-BOT-CIA/blob/main/%5BAtividade10_Trilha_BOT_CIA%5D_Matheus_Sousa_Beck_CS416149.ipynb\" target=\"_parent\"><img src=\"https://colab.research.google.com/assets/colab-badge.svg\" alt=\"Open In Colab\"/></a>"
      ]
    },
    {
      "cell_type": "markdown",
      "source": [
        "## Desafio\n",
        "\n",
        "Extraia o texto da matéria principal que está na capa do site da https://www.uol.com.br/\n",
        "\n",
        "**Limitação:** Tente utilizar somente requests, json e pandas"
      ],
      "metadata": {
        "id": "MNIUsbw8DP-_"
      }
    },
    {
      "cell_type": "code",
      "source": [
        "import requests\n",
        "import pandas as pd\n",
        "\n",
        "def noticiaPrincipal(url):\n",
        "    # Capturar uma solicitação GET para a URL\n",
        "    resposta = requests.get(url)\n",
        "    resposta = resposta.text\n",
        "\n",
        "    # Encontrar o índice das tags\n",
        "    TagInicial = '<h3'\n",
        "    TagFinal = '</h3>'\n",
        "    IndexInicial = resposta.find(TagInicial)\n",
        "    IndexInicial = resposta.find('>', IndexInicial) + 1\n",
        "    IndexFinal = resposta.find('<!', IndexInicial)\n",
        "\n",
        "    # Extrair o texto entre as tags <h3> e </h3>\n",
        "    title = resposta[IndexInicial:IndexFinal].strip()\n",
        "    return title\n",
        "\n",
        "# Exemplo de uso\n",
        "url = 'https://www.uol.com.br/'  # Substitua pelo URL da página HTML que contém o <h3>\n",
        "Noticia = noticiaPrincipal(url)\n",
        "print(Noticia)"
      ],
      "metadata": {
        "colab": {
          "base_uri": "https://localhost:8080/"
        },
        "id": "cbOaEfHXZj-4",
        "outputId": "495a34fe-c525-4106-8dec-7a267235a0d8"
      },
      "execution_count": null,
      "outputs": [
        {
          "output_type": "stream",
          "name": "stdout",
          "text": [
            "Vítimas da queda do avião em SP morreram de politraumatismo, diz IML\n"
          ]
        }
      ]
    },
    {
      "cell_type": "markdown",
      "source": [
        "<br>\n",
        "<br>\n",
        "\n",
        "-----------------------------------\n",
        "\n",
        "**Boa sorte**\n",
        "\n",
        "\"Se algo é importante o suficiente, você deve tentar. Mesmo se o resultado provável for o fracasso.\" — Elon Musk."
      ],
      "metadata": {
        "id": "XLmarxhFDSSY"
      }
    }
  ]
}